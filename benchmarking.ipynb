{
 "cells": [
  {
   "cell_type": "code",
   "execution_count": 12,
   "id": "8c5a003e-0643-439b-893e-3d2301fa3421",
   "metadata": {},
   "outputs": [],
   "source": [
    "import numpy, sys\n",
    "from torch.utils.data import DataLoader\n",
    "from tqdm import tqdm\n",
    "\n",
    "\n",
    "from dataio.loader import get_dataset, get_dataset_path\n",
    "from dataio.transformation import get_dataset_transformation\n",
    "from utils.util import json_file_to_pyobj\n",
    "from utils.visualiser import Visualiser\n",
    "from utils.error_logger import ErrorLogger\n",
    "\n",
    "from models import get_model"
   ]
  },
  {
   "cell_type": "code",
   "execution_count": 13,
   "id": "c30edc0b-930d-4cca-98c7-89c45c0f5c9b",
   "metadata": {},
   "outputs": [],
   "source": [
    "def test_model():\n",
    "    json_filename = \"configs/config_unet_ct_multi_att_dsv.json\"\n",
    "    json_opts = json_file_to_pyobj(json_filename)\n",
    "    train_opts = json_opts.training\n",
    "\n",
    "    # Architecture type\n",
    "    arch_type = train_opts.arch_type\n",
    "\n",
    "    # Setup Dataset and Augmentation\n",
    "    ds_class = get_dataset(arch_type)\n",
    "    ds_path = get_dataset_path(arch_type, json_opts.data_path)\n",
    "    ds_transform = get_dataset_transformation(arch_type, opts=json_opts.augmentation)\n",
    "\n",
    "    # Setup the NN Model\n",
    "    model = get_model(json_opts.model)\n",
    "\n",
    "    # Load the pretrained model\n",
    "    pretrained_model_path = \"checkpoints/experiment_unet_ct_multi_att_dsv/095_net_S.pth\"\n",
    "    model.load_network_from_path(model.net, pretrained_model_path, strict=True)\n",
    "        \n",
    "    # Setup Data Loader\n",
    "    test_dataset = ds_class(\n",
    "        ds_path, split='test', transform=ds_transform['valid'], preload_data=train_opts.preloadData\n",
    "    )\n",
    "    test_loader = DataLoader(\n",
    "        dataset=test_dataset, num_workers=1, batch_size=train_opts.batchSize, shuffle=False\n",
    "    )\n",
    "\n",
    "    # Set the model to evaluation mode\n",
    "    model.net.eval()\n",
    "\n",
    "    # Initialize the error logger\n",
    "    error_logger = ErrorLogger()\n",
    "\n",
    "    # Testing Iterations\n",
    "    print(\"Starting testing...\")\n",
    "    for images, labels in tqdm(test_loader, total=len(test_loader), file=sys.stdout):\n",
    "        # Move data to the appropriate device\n",
    "        if model.use_cuda and model.gpu_ids:\n",
    "            images, labels = images.cuda(model.gpu_ids[0]), labels.cuda(model.gpu_ids[0])\n",
    "\n",
    "        # Perform forward pass\n",
    "        model.set_input(images, labels)\n",
    "        model.validate()\n",
    "\n",
    "        # Log errors and stats\n",
    "        errors = model.get_current_errors()\n",
    "        stats = model.get_segmentation_stats()\n",
    "        error_logger.update({**errors, **stats}, split='test')\n",
    "\n",
    "    # Summarize results\n",
    "    test_errors = error_logger.get_errors('test')\n",
    "    print(\"--------------------------------------\")\n",
    "    print(f\"Test Results: {test_errors}\")\n",
    "    print(\"--------------------------------------\")\n"
   ]
  },
  {
   "cell_type": "code",
   "execution_count": 14,
   "id": "e370c1a1-86b7-4453-8814-3830b661530c",
   "metadata": {},
   "outputs": [
    {
     "name": "stdout",
     "output_type": "stream",
     "text": [
      "Testing the model...\n",
      "\n",
      "\n",
      "############# Augmentation Parameters #############\n",
      "{'division_factor': (16, 16, 1),\n",
      " 'inten_val': (1.0, 1.0),\n",
      " 'name': 'acdc_sax',\n",
      " 'patch_size': [160, 160, 96],\n",
      " 'random_flip_prob': 0.5,\n",
      " 'rotate_val': 15.0,\n",
      " 'scale_size': [160, 160, 96],\n",
      " 'scale_val': (0.7, 1.3),\n",
      " 'shift_val': (0.1, 0.1)}\n",
      "###################################################\n",
      "\n",
      "\n",
      "\n",
      "Initialising model unet_ct_multi_att_dsv\n",
      "Model [FeedForwardSegmentation] is created\n",
      "Loading the model 095_net_S.pth - epoch 095\n",
      "Number of test images: 18 NIFTIs\n",
      "Starting testing...\n",
      "100%|██████████| 9/9 [00:17<00:00,  1.89s/it]\n",
      "--------------------------------------\n",
      "Test Results: {'Seg_Loss': 0.799999992052714, 'Overall_Acc': 0.7266673674406829, 'Mean_IOU': 0.18577655912286054, 'Class_0': 0.8261760671933492, 'Class_1': 0.024303110523356333, 'Class_2': 0.0, 'Class_3': 0.0}\n",
      "--------------------------------------\n"
     ]
    }
   ],
   "source": [
    "if __name__ == '__main__':\n",
    "    print(\"Testing the model...\")\n",
    "    test_model()"
   ]
  }
 ],
 "metadata": {
  "kernelspec": {
   "display_name": "Python (myenv)",
   "language": "python",
   "name": "myenv"
  },
  "language_info": {
   "codemirror_mode": {
    "name": "ipython",
    "version": 3
   },
   "file_extension": ".py",
   "mimetype": "text/x-python",
   "name": "python",
   "nbconvert_exporter": "python",
   "pygments_lexer": "ipython3",
   "version": "3.10.13"
  }
 },
 "nbformat": 4,
 "nbformat_minor": 5
}
